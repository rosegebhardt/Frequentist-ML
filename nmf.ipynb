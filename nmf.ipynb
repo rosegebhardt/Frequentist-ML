{
  "nbformat": 4,
  "nbformat_minor": 0,
  "metadata": {
    "colab": {
      "name": "nmf.ipynb",
      "provenance": [],
      "collapsed_sections": [],
      "authorship_tag": "ABX9TyOlUbwS1Btxb9x8lEfrMP2T",
      "include_colab_link": true
    },
    "kernelspec": {
      "name": "python3",
      "display_name": "Python 3"
    }
  },
  "cells": [
    {
      "cell_type": "markdown",
      "metadata": {
        "id": "view-in-github",
        "colab_type": "text"
      },
      "source": [
        "<a href=\"https://colab.research.google.com/github/rosegebhardt/Frequentist-ML/blob/master/nmf.ipynb\" target=\"_parent\"><img src=\"https://colab.research.google.com/assets/colab-badge.svg\" alt=\"Open In Colab\"/></a>"
      ]
    },
    {
      "cell_type": "code",
      "metadata": {
        "id": "e3nyU_5tyWgZ",
        "colab_type": "code",
        "colab": {
          "base_uri": "https://localhost:8080/",
          "height": 263
        },
        "outputId": "45052cf4-1f32-4998-ce79-bac48ed1f2eb"
      },
      "source": [
        "!pip install scikit-surprise"
      ],
      "execution_count": null,
      "outputs": [
        {
          "output_type": "stream",
          "text": [
            "Collecting scikit-surprise\n",
            "\u001b[?25l  Downloading https://files.pythonhosted.org/packages/97/37/5d334adaf5ddd65da99fc65f6507e0e4599d092ba048f4302fe8775619e8/scikit-surprise-1.1.1.tar.gz (11.8MB)\n",
            "\u001b[K     |████████████████████████████████| 11.8MB 3.0MB/s \n",
            "\u001b[?25hRequirement already satisfied: joblib>=0.11 in /usr/local/lib/python3.6/dist-packages (from scikit-surprise) (0.16.0)\n",
            "Requirement already satisfied: numpy>=1.11.2 in /usr/local/lib/python3.6/dist-packages (from scikit-surprise) (1.18.5)\n",
            "Requirement already satisfied: scipy>=1.0.0 in /usr/local/lib/python3.6/dist-packages (from scikit-surprise) (1.4.1)\n",
            "Requirement already satisfied: six>=1.10.0 in /usr/local/lib/python3.6/dist-packages (from scikit-surprise) (1.15.0)\n",
            "Building wheels for collected packages: scikit-surprise\n",
            "  Building wheel for scikit-surprise (setup.py) ... \u001b[?25l\u001b[?25hdone\n",
            "  Created wheel for scikit-surprise: filename=scikit_surprise-1.1.1-cp36-cp36m-linux_x86_64.whl size=1670962 sha256=541c8d01c624ec7befde512b665bbddd9a5614eecfb53ecdfb376d58690acc21\n",
            "  Stored in directory: /root/.cache/pip/wheels/78/9c/3d/41b419c9d2aff5b6e2b4c0fc8d25c538202834058f9ed110d0\n",
            "Successfully built scikit-surprise\n",
            "Installing collected packages: scikit-surprise\n",
            "Successfully installed scikit-surprise-1.1.1\n"
          ],
          "name": "stdout"
        }
      ]
    },
    {
      "cell_type": "code",
      "metadata": {
        "id": "80XJwPoM9ed1",
        "colab_type": "code",
        "colab": {}
      },
      "source": [
        "#----------INCLUDE PACKAGES\n",
        "\n",
        "import csv\n",
        "import pandas as pd\n",
        "import numpy as np\n",
        "import seaborn as sns\n",
        "import tensorflow as tf\n",
        "import matplotlib.pyplot as plt\n",
        "\n",
        "from surprise import NMF\n",
        "from surprise import Dataset\n",
        "from surprise.model_selection import cross_validate\n",
        "from surprise.model_selection.split import train_test_split\n",
        "from surprise import accuracy"
      ],
      "execution_count": null,
      "outputs": []
    },
    {
      "cell_type": "code",
      "metadata": {
        "id": "H6OaSSwm9zYF",
        "colab_type": "code",
        "colab": {
          "base_uri": "https://localhost:8080/",
          "height": 158
        },
        "outputId": "5c07dfa9-46f2-4dde-d0fb-bd964c50a253"
      },
      "source": [
        "#----------BUILD NMF MODEL\n",
        "\n",
        "# Load movielens-100k dataset\n",
        "data = Dataset.load_builtin('ml-100k')\n",
        "\n",
        "# Split into training and testing sets\n",
        "train, test = train_test_split(data, test_size=0.2)\n",
        "\n",
        "# Define NMF model\n",
        "algo = NMF()\n",
        "\n",
        "# Perform cross-validation\n",
        "cross_validate(algo, data, measures=['RMSE', 'RMSE'], cv=5, verbose=True)\n",
        "\n",
        "# Fit and test the model\n",
        "algo.fit(train)\n",
        "predictions = algo.test(test)\n",
        "\n",
        "# Find accuracy\n",
        "print(accuracy.rmse(predictions))"
      ],
      "execution_count": null,
      "outputs": [
        {
          "output_type": "stream",
          "text": [
            "Evaluating RMSE, RMSE of algorithm NMF on 5 split(s).\n",
            "\n",
            "                  Fold 1  Fold 2  Fold 3  Fold 4  Fold 5  Mean    Std     \n",
            "RMSE (testset)    0.9552  0.9703  0.9645  0.9574  0.9727  0.9640  0.0069  \n",
            "Fit time          5.75    5.77    5.77    5.73    5.83    5.77    0.03    \n",
            "Test time         0.12    0.12    0.13    0.30    0.12    0.16    0.07    \n",
            "RMSE: 0.9640\n",
            "0.964002390110075\n"
          ],
          "name": "stdout"
        }
      ]
    },
    {
      "cell_type": "code",
      "metadata": {
        "id": "vIqvNq0ODVFM",
        "colab_type": "code",
        "colab": {
          "base_uri": "https://localhost:8080/",
          "height": 263
        },
        "outputId": "dc4bed04-594d-4268-cddd-712722406d81"
      },
      "source": [
        "#----------GET RECOMMENDATIONS\n",
        "\n",
        "# Convert string to dataframe for readability\n",
        "predict = pd.DataFrame(predictions)\n",
        "\n",
        "# Filter predictions\n",
        "recommendations = predict[predict['est'] > 4.9] \n",
        "recommendations = recommendations[recommendations['details'] != True]\n",
        "\n",
        "# Show good recommendations\n",
        "print(recommendations)"
      ],
      "execution_count": null,
      "outputs": [
        {
          "output_type": "stream",
          "text": [
            "       uid  iid  r_ui       est                    details\n",
            "131    152  204   4.0  4.920406  {'was_impossible': False}\n",
            "273    174  272   5.0  5.000000  {'was_impossible': False}\n",
            "394    770  246   5.0  5.000000  {'was_impossible': False}\n",
            "507    628  300   5.0  5.000000  {'was_impossible': False}\n",
            "598     36  269   3.0  4.995556  {'was_impossible': False}\n",
            "...    ...  ...   ...       ...                        ...\n",
            "19684  472  191   5.0  5.000000  {'was_impossible': False}\n",
            "19709  907  813   5.0  5.000000  {'was_impossible': False}\n",
            "19918  887   50   5.0  5.000000  {'was_impossible': False}\n",
            "19945  523  210   5.0  4.940577  {'was_impossible': False}\n",
            "19999  249  479   5.0  4.999790  {'was_impossible': False}\n",
            "\n",
            "[247 rows x 5 columns]\n"
          ],
          "name": "stdout"
        }
      ]
    }
  ]
}