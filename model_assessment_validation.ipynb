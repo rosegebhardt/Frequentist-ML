{
  "nbformat": 4,
  "nbformat_minor": 0,
  "metadata": {
    "colab": {
      "name": "model_assessment_validation.ipynb",
      "provenance": [],
      "collapsed_sections": [],
      "authorship_tag": "ABX9TyP7nqttTR84vViKEzqJgDj8",
      "include_colab_link": true
    },
    "kernelspec": {
      "name": "python3",
      "display_name": "Python 3"
    }
  },
  "cells": [
    {
      "cell_type": "markdown",
      "metadata": {
        "id": "view-in-github",
        "colab_type": "text"
      },
      "source": [
        "<a href=\"https://colab.research.google.com/github/rosegebhardt/Frequentist-ML/blob/master/model_assessment_validation.ipynb\" target=\"_parent\"><img src=\"https://colab.research.google.com/assets/colab-badge.svg\" alt=\"Open In Colab\"/></a>"
      ]
    },
    {
      "cell_type": "code",
      "metadata": {
        "id": "UIexfMaHOTWp",
        "colab_type": "code",
        "colab": {
          "base_uri": "https://localhost:8080/",
          "height": 72
        },
        "outputId": "1d2b4693-8bef-4cca-d7a9-78d845b55684"
      },
      "source": [
        "#----------INCLUDE PACKAGES\n",
        "\n",
        "import pandas as pd\n",
        "import numpy as np\n",
        "import seaborn as sns\n",
        "import tensorflow as tf\n",
        "import matplotlib.pyplot as plt\n",
        "from sklearn.neighbors import KNeighborsClassifier"
      ],
      "execution_count": null,
      "outputs": [
        {
          "output_type": "stream",
          "text": [
            "/usr/local/lib/python3.6/dist-packages/statsmodels/tools/_testing.py:19: FutureWarning: pandas.util.testing is deprecated. Use the functions in the public API at pandas.testing instead.\n",
            "  import pandas.util.testing as tm\n"
          ],
          "name": "stderr"
        }
      ]
    },
    {
      "cell_type": "code",
      "metadata": {
        "id": "fhvhg0e_P1S6",
        "colab_type": "code",
        "colab": {}
      },
      "source": [
        "#----------CREATE DATA\n",
        "\n",
        "# Seed the generator\n",
        "np.random.seed(420)\n",
        "\n",
        "# Create dataframe with random values and classes\n",
        "values = np.random.randn(50,5000)\n",
        "ground_truth = (np.random.rand(50,1) < 0.5)\n",
        "data = np.concatenate((values,ground_truth),axis=1)\n",
        "df = pd.DataFrame(data)\n"
      ],
      "execution_count": null,
      "outputs": []
    },
    {
      "cell_type": "code",
      "metadata": {
        "id": "laPCXXr2R2bB",
        "colab_type": "code",
        "colab": {}
      },
      "source": [
        "#----------SEPARATE DATA\n",
        "\n",
        "# Separate training and testing data\n",
        "indices = np.random.permutation(data.shape[0])\n",
        "train_indices, test_indices = indices[:40], indices[40:]\n",
        "train_data, test_data = data[train_indices,:], data[test_indices,:]\n",
        "\n",
        "# Separate training inputs and outputs\n",
        "x_train = train_data[:,0:4999]  \n",
        "y_train = train_data[:,[5000]]\n",
        "\n",
        "# Separate testing inputs and outputs\n",
        "x_test = test_data[:,0:4999]\n",
        "y_test = test_data[:,[5000]]\n"
      ],
      "execution_count": null,
      "outputs": []
    },
    {
      "cell_type": "code",
      "metadata": {
        "id": "yp5W1eCplGDa",
        "colab_type": "code",
        "colab": {
          "base_uri": "https://localhost:8080/",
          "height": 640
        },
        "outputId": "75deb628-78e4-4c27-8f75-b294848cbc52"
      },
      "source": [
        "#----------INCORRECT METHOD\n",
        "\n",
        "# Step 1: Determine 100 best predictors\n",
        "coefs = np.zeros([data.shape[1],1])\n",
        "for index in range(data.shape[1]-1):\n",
        "  coefs[index] = np.correlate(np.transpose(values[:,index]), np.transpose(ground_truth.flatten()))\n",
        "\n",
        "# Step 2: Use 100 best predictors to build a classifier\n",
        "ind = np.argsort(-coefs, axis=0)[:100]\n",
        "X = np.reshape(data[:,ind],(50,100))\n",
        "y = ground_truth\n",
        "neigh = KNeighborsClassifier()\n",
        "neigh.fit(X, y)\n",
        "\n",
        "# Step 3: Get prediction error of the model\n",
        "incorrect_predictions = neigh.predict(x_test[:,ind.flatten()])\n",
        "incorrect_accuracy = 100*sum(y_test.flatten() == incorrect_predictions)/len(y_test)\n",
        "incorrect_error = [100 - incorrect_accuracy]\n",
        "print(\"The incorrection prediction error is \" + str(incorrect_error).strip('[]') + \"%\")\n",
        "\n",
        "# Recreate Figure 7.10\n",
        "fig = plt.figure(figsize=(11,9))\n",
        "plt.hist(coefs, bins = 20)\n",
        "plt.title(\"Recreate Figure 7.10\")\n",
        "plt.xlabel(\"Correlations of Selected Predictors with Outcomes\")\n",
        "plt.ylabel(\"Frequency\")\n",
        "plt.show()"
      ],
      "execution_count": null,
      "outputs": [
        {
          "output_type": "stream",
          "text": [
            "/usr/local/lib/python3.6/dist-packages/ipykernel_launcher.py:13: DataConversionWarning: A column-vector y was passed when a 1d array was expected. Please change the shape of y to (n_samples, ), for example using ravel().\n",
            "  del sys.path[0]\n"
          ],
          "name": "stderr"
        },
        {
          "output_type": "stream",
          "text": [
            "The incorrection prediction error is 10.0%\n"
          ],
          "name": "stdout"
        },
        {
          "output_type": "display_data",
          "data": {
            "image/png": "[encoded data removed]",
            "text/plain": [
              "<Figure size 792x648 with 1 Axes>"
            ]
          },
          "metadata": {
            "tags": [],
            "needs_background": "light"
          }
        }
      ]
    },
    {
      "cell_type": "code",
      "metadata": {
        "id": "nr-6l8gvZkvg",
        "colab_type": "code",
        "colab": {
          "base_uri": "https://localhost:8080/",
          "height": 35
        },
        "outputId": "ba78b7ac-7aed-4df4-d802-b81a507317d5"
      },
      "source": [
        "#----------CORRECT METHOD\n",
        "\n",
        "# Step 1: Divide the samples into K cross-validation folds at random\n",
        "indices = np.random.permutation(data.shape[0])\n",
        "index_array = indices.reshape([5,10])\n",
        "x_train_data = np.zeros([40,5000,5])\n",
        "y_train_data = np.zeros([40,1,5])\n",
        "x_test_data = np.zeros([10,5000,5])\n",
        "y_test_data = np.zeros([10,1,5])\n",
        "for index in range(5):\n",
        "  new_index_array = np.delete(index_array, index, axis=0)\n",
        "  new_indices = new_index_array.reshape([1,40])\n",
        "  test_indices = index_array[index,:]\n",
        "  x_train_data[:,:,index] = data[new_indices.flatten(),0:5000]  \n",
        "  y_train_data[:,:,index] = np.reshape(data[new_indices.flatten(),[5000]],(40,1))\n",
        "  x_test_data[:,:,index] = data[test_indices.flatten(),0:5000]\n",
        "  y_test_data[:,:,index] = np.reshape(data[test_indices.flatten(),[5000]],(10,1))\n",
        "\n",
        "# Step 2: Build a classifier for each fold and get the accuracy\n",
        "fold_error = np.zeros([5,1])\n",
        "for index in range(5):\n",
        "  # Step A: Determine 100 best predictors\n",
        "  corrs = np.zeros([data.shape[1]-1,1])\n",
        "  for super_index in range(data.shape[1]-1):\n",
        "    corrs[super_index] = np.correlate(np.transpose(x_train_data[:,super_index,index]), np.transpose(y_train_data[:,:,index].flatten()))\n",
        "  ind = np.argsort(-corrs, axis=0)[:100]\n",
        "  # Step B: Use 100 best predictors to build a classifier\n",
        "  X = np.reshape(x_train_data[:,ind,index],(40,100))\n",
        "  y = y_train_data[:,:,index].flatten()\n",
        "  neigh = KNeighborsClassifier()\n",
        "  neigh.fit(X, y)\n",
        "  # Step C: Get prediction error of the model\n",
        "  # print(x_test_data[:,ind,index].reshape(10,100).shape)\n",
        "  fold_predictions = neigh.predict(x_test_data[:,ind,index].reshape(10,100))\n",
        "  fold_accuracy = 100*sum(y_test_data[:,:,index].flatten() == fold_predictions)/len(y_test_data)\n",
        "  fold_error[index] = [100 - fold_accuracy]\n",
        "  #print(\"The true prediction error is \" + str(fold_error).strip('[]') + \"%\")\n",
        "true_error = sum(fold_error)/5\n",
        "print(\"The true prediction error is \" + str(true_error).strip('[]') + \"%\")"
      ],
      "execution_count": null,
      "outputs": [
        {
          "output_type": "stream",
          "text": [
            "The true prediction error is 44.%\n"
          ],
          "name": "stdout"
        }
      ]
    }
  ]
}