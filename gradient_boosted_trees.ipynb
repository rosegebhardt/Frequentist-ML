{
  "nbformat": 4,
  "nbformat_minor": 0,
  "metadata": {
    "colab": {
      "name": "gradient_boosted_trees.ipynb",
      "provenance": [],
      "collapsed_sections": [],
      "authorship_tag": "ABX9TyOkgeTkzd7jFH8Veejw+W7d",
      "include_colab_link": true
    },
    "kernelspec": {
      "name": "python3",
      "display_name": "Python 3"
    }
  },
  "cells": [
    {
      "cell_type": "markdown",
      "metadata": {
        "id": "view-in-github",
        "colab_type": "text"
      },
      "source": [
        "<a href=\"https://colab.research.google.com/github/rosegebhardt/Frequentist-ML/blob/master/gradient_boosted_trees.ipynb\" target=\"_parent\"><img src=\"https://colab.research.google.com/assets/colab-badge.svg\" alt=\"Open In Colab\"/></a>"
      ]
    },
    {
      "cell_type": "code",
      "metadata": {
        "id": "ly8XUiMN9vqE",
        "colab_type": "code",
        "colab": {
          "base_uri": "https://localhost:8080/",
          "height": 70
        },
        "outputId": "5d842c55-78c3-4386-c18a-ff56eb9b088c"
      },
      "source": [
        "pip install xgboost"
      ],
      "execution_count": null,
      "outputs": [
        {
          "output_type": "stream",
          "text": [
            "Requirement already satisfied: xgboost in /usr/local/lib/python3.6/dist-packages (0.90)\n",
            "Requirement already satisfied: numpy in /usr/local/lib/python3.6/dist-packages (from xgboost) (1.18.5)\n",
            "Requirement already satisfied: scipy in /usr/local/lib/python3.6/dist-packages (from xgboost) (1.4.1)\n"
          ],
          "name": "stdout"
        }
      ]
    },
    {
      "cell_type": "code",
      "metadata": {
        "id": "IIIPwT-B8Lh0",
        "colab_type": "code",
        "colab": {
          "base_uri": "https://localhost:8080/",
          "height": 72
        },
        "outputId": "026f1122-86be-4018-e64d-b89c7389d63f"
      },
      "source": [
        "#----------INCLUDE PACKAGES\n",
        "\n",
        "import pandas as pd\n",
        "import numpy as np\n",
        "import seaborn as sns\n",
        "import tensorflow as tf\n",
        "import matplotlib.pyplot as plt\n",
        "import xgboost as xgb"
      ],
      "execution_count": null,
      "outputs": [
        {
          "output_type": "stream",
          "text": [
            "/usr/local/lib/python3.6/dist-packages/statsmodels/tools/_testing.py:19: FutureWarning: pandas.util.testing is deprecated. Use the functions in the public API at pandas.testing instead.\n",
            "  import pandas.util.testing as tm\n"
          ],
          "name": "stderr"
        }
      ]
    },
    {
      "cell_type": "code",
      "metadata": {
        "id": "TKUSNLqf8V3z",
        "colab_type": "code",
        "colab": {}
      },
      "source": [
        "#----------DATA READING \n",
        "\n",
        "data = 'https://raw.githubusercontent.com/jbrownlee/Datasets/master/pima-indians-diabetes.csv'\n",
        "dataframe = pd.read_csv(data, sep=',', header=None)"
      ],
      "execution_count": null,
      "outputs": []
    },
    {
      "cell_type": "code",
      "metadata": {
        "id": "WkN9nixF8YtN",
        "colab_type": "code",
        "colab": {
          "base_uri": "https://localhost:8080/",
          "height": 295
        },
        "outputId": "5333606a-a678-4773-ba6a-27e2d5ad4830"
      },
      "source": [
        "#----------CLEAN DATA\n",
        "\n",
        "# Drop rows with missing data\n",
        "clean_data = dataframe.dropna(axis=0)\n",
        "\n",
        "# Rename columns\n",
        "clean_data.columns = ['times_pregnant','glucose','blood_pres','skin_thickness','insulin','bmi','diabetes_fcn','age','class_value'] \n",
        "\n",
        "# Remove rows with invalid data\n",
        "clean_data = clean_data[clean_data['glucose'] > 0] \n",
        "clean_data = clean_data[clean_data['blood_pres'] > 0] \n",
        "clean_data = clean_data[clean_data['skin_thickness'] > 0] \n",
        "clean_data = clean_data[clean_data['insulin'] > 0] \n",
        "clean_data = clean_data[clean_data['bmi'] > 0] \n",
        "\n",
        "# Show data information                    \n",
        "clean_data.describe()"
      ],
      "execution_count": null,
      "outputs": [
        {
          "output_type": "execute_result",
          "data": {
            "text/html": [
              "<div>\n",
              "<style scoped>\n",
              "    .dataframe tbody tr th:only-of-type {\n",
              "        vertical-align: middle;\n",
              "    }\n",
              "\n",
              "    .dataframe tbody tr th {\n",
              "        vertical-align: top;\n",
              "    }\n",
              "\n",
              "    .dataframe thead th {\n",
              "        text-align: right;\n",
              "    }\n",
              "</style>\n",
              "<table border=\"1\" class=\"dataframe\">\n",
              "  <thead>\n",
              "    <tr style=\"text-align: right;\">\n",
              "      <th></th>\n",
              "      <th>times_pregnant</th>\n",
              "      <th>glucose</th>\n",
              "      <th>blood_pres</th>\n",
              "      <th>skin_thickness</th>\n",
              "      <th>insulin</th>\n",
              "      <th>bmi</th>\n",
              "      <th>diabetes_fcn</th>\n",
              "      <th>age</th>\n",
              "      <th>class_value</th>\n",
              "    </tr>\n",
              "  </thead>\n",
              "  <tbody>\n",
              "    <tr>\n",
              "      <th>count</th>\n",
              "      <td>392.000000</td>\n",
              "      <td>392.000000</td>\n",
              "      <td>392.000000</td>\n",
              "      <td>392.000000</td>\n",
              "      <td>392.000000</td>\n",
              "      <td>392.000000</td>\n",
              "      <td>392.000000</td>\n",
              "      <td>392.000000</td>\n",
              "      <td>392.000000</td>\n",
              "    </tr>\n",
              "    <tr>\n",
              "      <th>mean</th>\n",
              "      <td>3.301020</td>\n",
              "      <td>122.627551</td>\n",
              "      <td>70.663265</td>\n",
              "      <td>29.145408</td>\n",
              "      <td>156.056122</td>\n",
              "      <td>33.086224</td>\n",
              "      <td>0.523046</td>\n",
              "      <td>30.864796</td>\n",
              "      <td>0.331633</td>\n",
              "    </tr>\n",
              "    <tr>\n",
              "      <th>std</th>\n",
              "      <td>3.211424</td>\n",
              "      <td>30.860781</td>\n",
              "      <td>12.496092</td>\n",
              "      <td>10.516424</td>\n",
              "      <td>118.841690</td>\n",
              "      <td>7.027659</td>\n",
              "      <td>0.345488</td>\n",
              "      <td>10.200777</td>\n",
              "      <td>0.471401</td>\n",
              "    </tr>\n",
              "    <tr>\n",
              "      <th>min</th>\n",
              "      <td>0.000000</td>\n",
              "      <td>56.000000</td>\n",
              "      <td>24.000000</td>\n",
              "      <td>7.000000</td>\n",
              "      <td>14.000000</td>\n",
              "      <td>18.200000</td>\n",
              "      <td>0.085000</td>\n",
              "      <td>21.000000</td>\n",
              "      <td>0.000000</td>\n",
              "    </tr>\n",
              "    <tr>\n",
              "      <th>25%</th>\n",
              "      <td>1.000000</td>\n",
              "      <td>99.000000</td>\n",
              "      <td>62.000000</td>\n",
              "      <td>21.000000</td>\n",
              "      <td>76.750000</td>\n",
              "      <td>28.400000</td>\n",
              "      <td>0.269750</td>\n",
              "      <td>23.000000</td>\n",
              "      <td>0.000000</td>\n",
              "    </tr>\n",
              "    <tr>\n",
              "      <th>50%</th>\n",
              "      <td>2.000000</td>\n",
              "      <td>119.000000</td>\n",
              "      <td>70.000000</td>\n",
              "      <td>29.000000</td>\n",
              "      <td>125.500000</td>\n",
              "      <td>33.200000</td>\n",
              "      <td>0.449500</td>\n",
              "      <td>27.000000</td>\n",
              "      <td>0.000000</td>\n",
              "    </tr>\n",
              "    <tr>\n",
              "      <th>75%</th>\n",
              "      <td>5.000000</td>\n",
              "      <td>143.000000</td>\n",
              "      <td>78.000000</td>\n",
              "      <td>37.000000</td>\n",
              "      <td>190.000000</td>\n",
              "      <td>37.100000</td>\n",
              "      <td>0.687000</td>\n",
              "      <td>36.000000</td>\n",
              "      <td>1.000000</td>\n",
              "    </tr>\n",
              "    <tr>\n",
              "      <th>max</th>\n",
              "      <td>17.000000</td>\n",
              "      <td>198.000000</td>\n",
              "      <td>110.000000</td>\n",
              "      <td>63.000000</td>\n",
              "      <td>846.000000</td>\n",
              "      <td>67.100000</td>\n",
              "      <td>2.420000</td>\n",
              "      <td>81.000000</td>\n",
              "      <td>1.000000</td>\n",
              "    </tr>\n",
              "  </tbody>\n",
              "</table>\n",
              "</div>"
            ],
            "text/plain": [
              "       times_pregnant     glucose  ...         age  class_value\n",
              "count      392.000000  392.000000  ...  392.000000   392.000000\n",
              "mean         3.301020  122.627551  ...   30.864796     0.331633\n",
              "std          3.211424   30.860781  ...   10.200777     0.471401\n",
              "min          0.000000   56.000000  ...   21.000000     0.000000\n",
              "25%          1.000000   99.000000  ...   23.000000     0.000000\n",
              "50%          2.000000  119.000000  ...   27.000000     0.000000\n",
              "75%          5.000000  143.000000  ...   36.000000     1.000000\n",
              "max         17.000000  198.000000  ...   81.000000     1.000000\n",
              "\n",
              "[8 rows x 9 columns]"
            ]
          },
          "metadata": {
            "tags": []
          },
          "execution_count": 4
        }
      ]
    },
    {
      "cell_type": "code",
      "metadata": {
        "id": "V7D_VFT08a9H",
        "colab_type": "code",
        "colab": {}
      },
      "source": [
        "#----------SEPARATE DATA\n",
        "\n",
        "# Choose seed\n",
        "np.random.seed(420)\n",
        "\n",
        "# Separate training and testing data\n",
        "train_data, validate_data, test_data = np.split(clean_data.sample(frac=1), [int(.8*len(clean_data)), int(.9*len(clean_data))])\n",
        "\n",
        "# Separate training inputs and outputs\n",
        "x_train = train_data.drop(['class_value'], axis=1)  \n",
        "y_train = train_data['class_value']\n",
        "\n",
        "# Separate validation inputs and outputs\n",
        "x_validate = validate_data.drop(['class_value'], axis=1)  \n",
        "y_validate = validate_data['class_value']\n",
        "\n",
        "# Separate testing inputs and outputs\n",
        "x_test = test_data.drop(['class_value'], axis=1)\n",
        "y_test = test_data['class_value']\n",
        "\n",
        "# Normalize testing validation and training inputs\n",
        "x_train = (x_train-x_train.min())/(x_train.max()-x_train.min()) \n",
        "x_validate = (x_validate-x_validate.min())/(x_validate.max()-x_validate.min()) \n",
        "x_test = (x_test-x_test.min())/(x_test.max()-x_test.min()) "
      ],
      "execution_count": null,
      "outputs": []
    },
    {
      "cell_type": "code",
      "metadata": {
        "id": "mm2afwwKTYdq",
        "colab_type": "code",
        "colab": {
          "base_uri": "https://localhost:8080/",
          "height": 35
        },
        "outputId": "ed658d3b-b96e-4709-e613-1f74e6c19637"
      },
      "source": [
        "#----------REGULAR GRADIENT BOOSTED TREES\n",
        "\n",
        "# Create array of possible lambdas\n",
        "gamma_vect = np.linspace(0,0.1,num=100)\n",
        "\n",
        "# Initialize accuracy values\n",
        "vals = np.zeros(gamma_vect.shape)\n",
        "\n",
        "# Find the accuracy for each lambda\n",
        "for index,val in enumerate(alpha_vect):\n",
        "  xg_classify = xgb.XGBClassifier(objective ='reg:logistic', learning_rate = 0.01, min_split_loss = val)\n",
        "  xg_classify.fit(x_train,y_train)\n",
        "  pred = xg_classify.predict(x_validate)\n",
        "  accuracy = sum(pred == y_validate)/len(y_validate)\n",
        "  vals[index] = accuracy\n",
        "\n",
        "# Find alpha that maximizes the accuracy\n",
        "maxpos = np.where(vals == vals.max())\n",
        "best_gamma = gamma_vect[maxpos]\n",
        "\n",
        "# Use best alpha value to train the model\n",
        "xg_classify = xgb.XGBClassifier(objective ='reg:logistic', learning_rate = 0.01, min_split_loss = best_gamma[-1])\n",
        "xg_classify.fit(x_train,y_train)\n",
        "\n",
        "# Find the prediction accuracy on the testing set\n",
        "pred = xg_classify.predict(x_test)\n",
        "accuracy = 100*sum(pred == y_test)/len(y_test)\n",
        "print(\"The accuracy on the test set using gradient boosted trees is\", accuracy, \"%.\")\n"
      ],
      "execution_count": null,
      "outputs": [
        {
          "output_type": "stream",
          "text": [
            "The accuracy on the test set using gradient boosted trees is 77.5 %.\n"
          ],
          "name": "stdout"
        }
      ]
    },
    {
      "cell_type": "code",
      "metadata": {
        "id": "tD83OoH5X6bQ",
        "colab_type": "code",
        "colab": {
          "base_uri": "https://localhost:8080/",
          "height": 35
        },
        "outputId": "bd3473cd-149a-4bbf-81b7-c94f639e6893"
      },
      "source": [
        "#----------GRADIENT BOOSTED TREES PLOTS\n",
        "\n",
        "# Plot tree\n",
        "fig1 = plt.figure(figsize = (120,90))\n",
        "xgb.plot_tree(xg_classify,num_trees=0)\n",
        "plt.show()\n",
        "\n",
        "# Feature importance\n",
        "fig2 = plt.figure(figsize = (9,9))\n",
        "xgb.plot_importance(xg_classify)\n",
        "plt.show()"
      ],
      "execution_count": null,
      "outputs": [
        {
          "output_type": "display_data",
          "data": {
            "text/plain": [
              "<Figure size 8640x6480 with 0 Axes>"
            ]
          },
          "metadata": {
            "tags": []
          }
        },
        {
          "output_type": "display_data",
          "data": {
            "image/png": "[encoded data removed]",
            "text/plain": [
              "<Figure size 360x360 with 1 Axes>"
            ]
          },
          "metadata": {
            "tags": [],
            "needs_background": "light"
          }
        },
        {
          "output_type": "display_data",
          "data": {
            "text/plain": [
              "<Figure size 648x648 with 0 Axes>"
            ]
          },
          "metadata": {
            "tags": []
          }
        },
        {
          "output_type": "display_data",
          "data": {
            "image/png": "[encoded data removed]",
            "text/plain": [
              "<Figure size 360x360 with 1 Axes>"
            ]
          },
          "metadata": {
            "tags": [],
            "needs_background": "light"
          }
        }
      ]
    },
    {
      "cell_type": "code",
      "metadata": {
        "id": "SR8c3fdI_Pu5",
        "colab_type": "code",
        "colab": {
          "base_uri": "https://localhost:8080/",
          "height": 35
        },
        "outputId": "4e2be41a-9876-4fd6-83ae-bc402ce88f1c"
      },
      "source": [
        "#----------L2 PENALTY\n",
        "\n",
        "# Create array of possible lambdas\n",
        "lambda_vect = np.linspace(0,0.1,num=100)\n",
        "\n",
        "# Initialize accuracy values\n",
        "vals = np.zeros(lambda_vect.shape)\n",
        "\n",
        "# Find the accuracy for each lambda\n",
        "for index,val in enumerate(lambda_vect):\n",
        "  xg_classify_rr = xgb.XGBClassifier(objective ='reg:logistic', learning_rate = 0.01, reg_lambda = val)\n",
        "  xg_classify_rr.fit(x_train,y_train)\n",
        "  pred_rr = xg_classify_rr.predict(x_validate)\n",
        "  accuracy_rr = sum(pred_rr == y_validate)/len(y_validate)\n",
        "  vals[index] = accuracy_rr\n",
        "\n",
        "# Find alpha that maximizes the accuracy\n",
        "maxpos = np.where(vals == vals.max())\n",
        "best_lambda = lambda_vect[maxpos]\n",
        "\n",
        "# Use best alpha value to train the model\n",
        "xg_classify_rr = xgb.XGBClassifier(objective ='reg:logistic', learning_rate = 0.01, reg_lambda = best_lambda[-1])\n",
        "xg_classify_rr.fit(x_train,y_train)\n",
        "\n",
        "# Find the prediction accuracy on the testing set\n",
        "pred_rr = xg_classify_rr.predict(x_test)\n",
        "accuracy_rr = 100*sum(pred_rr == y_test)/len(y_test)\n",
        "print(\"The accuracy on the test set using ridge regression gradient boosted trees is\", accuracy_rr, \"%.\")"
      ],
      "execution_count": null,
      "outputs": [
        {
          "output_type": "stream",
          "text": [
            "The accuracy on the test set using ridge regression gradient boosted trees is 77.5 %.\n"
          ],
          "name": "stdout"
        }
      ]
    },
    {
      "cell_type": "code",
      "metadata": {
        "id": "WeFqX_VjHStc",
        "colab_type": "code",
        "colab": {
          "base_uri": "https://localhost:8080/",
          "height": 459
        },
        "outputId": "1fbf1cc2-371e-4970-943d-6598d804fdec"
      },
      "source": [
        "#----------L2 PENALTY PLOTS\n",
        "\n",
        "# Plot tree\n",
        "fig1 = plt.figure(figsize = (120,90))\n",
        "xgb.plot_tree(xg_classify_rr,num_trees=0)\n",
        "plt.show()\n",
        "\n",
        "# Feature importance\n",
        "fig2 = plt.figure(figsize = (9,9))\n",
        "xgb.plot_importance(xg_classify_rr)\n",
        "plt.show()\n"
      ],
      "execution_count": null,
      "outputs": [
        {
          "output_type": "display_data",
          "data": {
            "text/plain": [
              "<Figure size 8640x6480 with 0 Axes>"
            ]
          },
          "metadata": {
            "tags": []
          }
        },
        {
          "output_type": "display_data",
          "data": {
            "image/png": "[encoded data removed]",
            "text/plain": [
              "<Figure size 360x360 with 1 Axes>"
            ]
          },
          "metadata": {
            "tags": [],
            "needs_background": "light"
          }
        },
        {
          "output_type": "display_data",
          "data": {
            "text/plain": [
              "<Figure size 648x648 with 0 Axes>"
            ]
          },
          "metadata": {
            "tags": []
          }
        },
        {
          "output_type": "display_data",
          "data": {
            "image/png": "[encoded data removed]",
            "text/plain": [
              "<Figure size 360x360 with 1 Axes>"
            ]
          },
          "metadata": {
            "tags": [],
            "needs_background": "light"
          }
        }
      ]
    }
  ]
}